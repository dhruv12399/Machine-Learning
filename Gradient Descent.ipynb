{
 "cells": [
  {
   "cell_type": "code",
   "execution_count": 58,
   "metadata": {},
   "outputs": [],
   "source": [
    "import numpy as np"
   ]
  },
  {
   "cell_type": "code",
   "execution_count": 59,
   "metadata": {},
   "outputs": [],
   "source": [
    "def step_gradient(data,lr,m,c):\n",
    "    N = len(data)\n",
    "    m_slope, c_slope = 0,0\n",
    "    for i in range(N):\n",
    "        x = data[i,0]\n",
    "        y = data[i,1]\n",
    "        m_slope += (-2/N)*(y-m*x-c)*x\n",
    "        c_slope += (-2/N)*(y-m*x-c)\n",
    "    m_new = m-lr*m_slope\n",
    "    c_new = c-lr*c_slope\n",
    "    return m_new,c_new\n"
   ]
  },
  {
   "cell_type": "code",
   "execution_count": 60,
   "metadata": {},
   "outputs": [],
   "source": [
    "def cost(data,m,c):\n",
    "    total_cost = 0\n",
    "    N = len(data)\n",
    "    for i in range(N):\n",
    "        x = data[i,0]\n",
    "        y = data[i,1]\n",
    "        total_cost += (1/N)*(y-m*x-c)**2\n",
    "    return total_cost"
   ]
  },
  {
   "cell_type": "code",
   "execution_count": 61,
   "metadata": {},
   "outputs": [],
   "source": [
    "def gd(data,lr,ni):\n",
    "    m,c=0,0\n",
    "    for i in range(ni):\n",
    "        m,c = step_gradient(data,lr,m,c)\n",
    "        print(\"Cost \",i, \" \", cost(data,m,c))\n",
    "    return m,c"
   ]
  },
  {
   "cell_type": "code",
   "execution_count": 62,
   "metadata": {},
   "outputs": [],
   "source": [
    "def run():\n",
    "    data = np.loadtxt(\"C:/Users/Dhruv/Desktop/Machine Learning/Datasets/data.csv\", delimiter=\",\")\n",
    "    lr = 0.0001\n",
    "    ni = 100\n",
    "    m,c = gd(data,lr,ni)\n",
    "    print(m,c)"
   ]
  },
  {
   "cell_type": "code",
   "execution_count": 63,
   "metadata": {},
   "outputs": [
    {
     "name": "stdout",
     "output_type": "stream",
     "text": [
      "Cost  0   1484.5865574086486\n",
      "Cost  1   457.8542575737672\n",
      "Cost  2   199.5099857255389\n",
      "Cost  3   134.50591058200533\n",
      "Cost  4   118.1496934223995\n",
      "Cost  5   114.0341490603815\n",
      "Cost  6   112.99857731713657\n",
      "Cost  7   112.73798187568467\n",
      "Cost  8   112.6723843590911\n",
      "Cost  9   112.65585181499745\n",
      "Cost  10   112.65166489759581\n",
      "Cost  11   112.6505843615011\n",
      "Cost  12   112.65028544701502\n",
      "Cost  13   112.65018320293967\n",
      "Cost  14   112.650130445072\n",
      "Cost  15   112.65009013922885\n",
      "Cost  16   112.6500529669463\n",
      "Cost  17   112.65001658353178\n",
      "Cost  18   112.64998039901865\n",
      "Cost  19   112.64994426496071\n",
      "Cost  20   112.64990814400622\n",
      "Cost  21   112.64987202675677\n",
      "Cost  22   112.64983591084761\n",
      "Cost  23   112.64979979568368\n",
      "Cost  24   112.64976368111523\n",
      "Cost  25   112.64972756710469\n",
      "Cost  26   112.64969145364236\n",
      "Cost  27   112.64965534072611\n",
      "Cost  28   112.64961922835512\n",
      "Cost  29   112.64958311652944\n",
      "Cost  30   112.64954700524868\n",
      "Cost  31   112.64951089451318\n",
      "Cost  32   112.64947478432279\n",
      "Cost  33   112.64943867467744\n",
      "Cost  34   112.64940256557728\n",
      "Cost  35   112.64936645702221\n",
      "Cost  36   112.64933034901203\n",
      "Cost  37   112.64929424154704\n",
      "Cost  38   112.64925813462712\n",
      "Cost  39   112.6492220282522\n",
      "Cost  40   112.64918592242235\n",
      "Cost  41   112.64914981713754\n",
      "Cost  42   112.64911371239779\n",
      "Cost  43   112.64907760820296\n",
      "Cost  44   112.64904150455324\n",
      "Cost  45   112.64900540144845\n",
      "Cost  46   112.64896929888867\n",
      "Cost  47   112.64893319687388\n",
      "Cost  48   112.6488970954041\n",
      "Cost  49   112.64886099447922\n",
      "Cost  50   112.64882489409929\n",
      "Cost  51   112.64878879426433\n",
      "Cost  52   112.64875269497436\n",
      "Cost  53   112.64871659622933\n",
      "Cost  54   112.64868049802914\n",
      "Cost  55   112.648644400374\n",
      "Cost  56   112.64860830326366\n",
      "Cost  57   112.64857220669828\n",
      "Cost  58   112.64853611067772\n",
      "Cost  59   112.64850001520212\n",
      "Cost  60   112.64846392027131\n",
      "Cost  61   112.64842782588545\n",
      "Cost  62   112.64839173204442\n",
      "Cost  63   112.6483556387483\n",
      "Cost  64   112.64831954599697\n",
      "Cost  65   112.64828345379043\n",
      "Cost  66   112.64824736212877\n",
      "Cost  67   112.64821127101193\n",
      "Cost  68   112.64817518043986\n",
      "Cost  69   112.64813909041264\n",
      "Cost  70   112.64810300093015\n",
      "Cost  71   112.64806691199259\n",
      "Cost  72   112.64803082359971\n",
      "Cost  73   112.64799473575155\n",
      "Cost  74   112.64795864844827\n",
      "Cost  75   112.64792256168963\n",
      "Cost  76   112.64788647547579\n",
      "Cost  77   112.64785038980668\n",
      "Cost  78   112.64781430468226\n",
      "Cost  79   112.64777822010265\n",
      "Cost  80   112.6477421360677\n",
      "Cost  81   112.64770605257743\n",
      "Cost  82   112.64766996963193\n",
      "Cost  83   112.64763388723107\n",
      "Cost  84   112.64759780537483\n",
      "Cost  85   112.64756172406335\n",
      "Cost  86   112.6475256432965\n",
      "Cost  87   112.64748956307432\n",
      "Cost  88   112.64745348339677\n",
      "Cost  89   112.64741740426388\n",
      "Cost  90   112.6473813256756\n",
      "Cost  91   112.64734524763193\n",
      "Cost  92   112.64730917013293\n",
      "Cost  93   112.6472730931785\n",
      "Cost  94   112.64723701676861\n",
      "Cost  95   112.64720094090339\n",
      "Cost  96   112.64716486558265\n",
      "Cost  97   112.64712879080662\n",
      "Cost  98   112.64709271657513\n",
      "Cost  99   112.64705664288809\n",
      "1.4788027175308358 0.035074970592341756\n"
     ]
    }
   ],
   "source": [
    "run()"
   ]
  }
 ],
 "metadata": {
  "kernelspec": {
   "display_name": "Python 3",
   "language": "python",
   "name": "python3"
  },
  "language_info": {
   "codemirror_mode": {
    "name": "ipython",
    "version": 3
   },
   "file_extension": ".py",
   "mimetype": "text/x-python",
   "name": "python",
   "nbconvert_exporter": "python",
   "pygments_lexer": "ipython3",
   "version": "3.7.0"
  }
 },
 "nbformat": 4,
 "nbformat_minor": 2
}
