{
 "cells": [
  {
   "cell_type": "code",
   "execution_count": 3,
   "metadata": {},
   "outputs": [],
   "source": [
    "import numpy as np"
   ]
  },
  {
   "cell_type": "code",
   "execution_count": 6,
   "metadata": {},
   "outputs": [
    {
     "data": {
      "text/plain": [
       "((4, 2), (4, 1))"
      ]
     },
     "execution_count": 6,
     "metadata": {},
     "output_type": "execute_result"
    }
   ],
   "source": [
    "X = np.array([[0,0],[0,1],[1,0],[1,1]])\n",
    "Y = np.array([[0,0,0,1]]).T\n",
    "X.shape, Y.shape"
   ]
  },
  {
   "cell_type": "code",
   "execution_count": 8,
   "metadata": {},
   "outputs": [],
   "source": [
    "def sig(z):\n",
    "    return 1/(1+np.exp(-z))"
   ]
  },
  {
   "cell_type": "code",
   "execution_count": 12,
   "metadata": {},
   "outputs": [],
   "source": [
    "wh = 2*np.random.random((2,2))-1\n",
    "bh = 2*np.random.random((1,2))-1\n",
    "wo = 2*np.random.random((2,1))-1\n",
    "bo = 2*np.random.random((1,1))-1"
   ]
  },
  {
   "cell_type": "code",
   "execution_count": 25,
   "metadata": {},
   "outputs": [],
   "source": [
    "out0 = X\n",
    "inputhidden = np.dot(out0,wh) + bh\n",
    "outhidden = sig(inputhidden)\n",
    "inputfinal = np.dot(outhidden,wo) + bo\n",
    "outfinal = sig(inputfinal)\n",
    "# print(outfinal.shape)\n",
    "first_term_final = outfinal - Y\n",
    "second_term_final = outfinal*(1-outfinal)\n",
    "first_two_final = first_term_final*second_term_final\n",
    "change_final = np.dot(outhidden.T,first_two_final)\n",
    "change_final_bias = np.sum(first_two_final,axis=0, keepdims=True)\n",
    "\n",
    "first_term_hidden = np.dot(first_two_final,wo.T)\n",
    "second_term_hidden = outhidden*(1-outhidden)\n",
    "first_two_hidden = first_term_hidden*second_term_hidden\n",
    "change_hidden = np.dot(out0.T,first_two_hidden)\n",
    "change_hidden_bias = "
   ]
  },
  {
   "cell_type": "code",
   "execution_count": null,
   "metadata": {},
   "outputs": [],
   "source": []
  }
 ],
 "metadata": {
  "kernelspec": {
   "display_name": "Python 3",
   "language": "python",
   "name": "python3"
  },
  "language_info": {
   "codemirror_mode": {
    "name": "ipython",
    "version": 3
   },
   "file_extension": ".py",
   "mimetype": "text/x-python",
   "name": "python",
   "nbconvert_exporter": "python",
   "pygments_lexer": "ipython3",
   "version": "3.7.0"
  }
 },
 "nbformat": 4,
 "nbformat_minor": 2
}
