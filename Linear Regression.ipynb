{
 "cells": [
  {
   "cell_type": "code",
   "execution_count": 5,
   "metadata": {},
   "outputs": [
    {
     "name": "stdout",
     "output_type": "stream",
     "text": [
      "1.0000000000000027 2.999999999999992\n"
     ]
    }
   ],
   "source": [
    "import pandas as pd\n",
    "import numpy as np\n",
    "\n",
    "X_train = np.array([2,3,4])\n",
    "Y_train = np.array([5,6,7])\n",
    "\n",
    "M,C = fit(X_train,Y_train)\n",
    "\n",
    "print(M,C)\n",
    "\n",
    "def fit(x,y):\n",
    "    m = ((x*y).mean() - x.mean()*y.mean())/((x**2).mean() - x.mean()*x.mean())\n",
    "    c = y.mean() - m*x.mean()\n",
    "    return m,c\n",
    "\n",
    "def predict(x,m,c):\n",
    "    Y_pred = m*x+c\n",
    "    return Y_pred\n",
    "\n",
    "def score(Y_pred,Y_true):\n",
    "    u = ((Y_pred - Y_true)**2).sum()\n",
    "    Ymean = Y_true.mean()\n",
    "    v = ((Y_true-Ymean)**2).sum()\n",
    "    cd = 1-(u/v)\n",
    "    return cd\n",
    "\n",
    "def cost(x,y,m,c):\n",
    "    s = ((y-(m*x+c))**2).sum()\n",
    "    return s"
   ]
  }
 ],
 "metadata": {
  "kernelspec": {
   "display_name": "Python 3",
   "language": "python",
   "name": "python3"
  },
  "language_info": {
   "codemirror_mode": {
    "name": "ipython",
    "version": 3
   },
   "file_extension": ".py",
   "mimetype": "text/x-python",
   "name": "python",
   "nbconvert_exporter": "python",
   "pygments_lexer": "ipython3",
   "version": "3.7.0"
  }
 },
 "nbformat": 4,
 "nbformat_minor": 2
}
