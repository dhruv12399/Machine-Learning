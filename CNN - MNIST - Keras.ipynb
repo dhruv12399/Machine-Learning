{
 "cells": [
  {
   "cell_type": "code",
   "execution_count": 1,
   "metadata": {},
   "outputs": [],
   "source": [
    "from keras.models import Sequential\n",
    "from keras.layers import Dense, Conv2D,MaxPool2D,Dropout,Flatten"
   ]
  },
  {
   "cell_type": "code",
   "execution_count": 2,
   "metadata": {},
   "outputs": [],
   "source": [
    "model = Sequential()"
   ]
  },
  {
   "cell_type": "code",
   "execution_count": 15,
   "metadata": {},
   "outputs": [],
   "source": [
    "model.add(Dense(units=32,activation='relu', input_dim = 30))\n",
    "model.add(Dense(units=16,activation='relu'))\n",
    "model.add(Dense(units=1,activation='sigmoid'))"
   ]
  },
  {
   "cell_type": "code",
   "execution_count": 16,
   "metadata": {},
   "outputs": [],
   "source": [
    "model.compile(optimizer='adam', loss='binary_crossentropy', metrics=['accuracy'])"
   ]
  },
  {
   "cell_type": "code",
   "execution_count": 17,
   "metadata": {},
   "outputs": [],
   "source": [
    "from sklearn import datasets, model_selection, preprocessing\n",
    "\n",
    "cancer = datasets.load_breast_cancer()\n",
    "xtr,xtest,ytr,ytest = model_selection.train_test_split(cancer.data, cancer.target, random_state=0)\n",
    "\n",
    "from sklearn.preprocessing import StandardScaler\n",
    "sc = StandardScaler()\n",
    "x_train = sc.fit_transform(xtr)\n",
    "x_test = sc.transform(xtest)"
   ]
  },
  {
   "cell_type": "code",
   "execution_count": 20,
   "metadata": {},
   "outputs": [
    {
     "name": "stdout",
     "output_type": "stream",
     "text": [
      "Train on 426 samples, validate on 143 samples\n",
      "Epoch 1/20\n",
      "426/426 [==============================] - 0s 40us/step - loss: 0.0381 - acc: 0.9906 - val_loss: 0.0815 - val_acc: 0.9510\n",
      "Epoch 2/20\n",
      "426/426 [==============================] - 0s 30us/step - loss: 0.0372 - acc: 0.9906 - val_loss: 0.0844 - val_acc: 0.9510\n",
      "Epoch 3/20\n",
      "426/426 [==============================] - 0s 35us/step - loss: 0.0363 - acc: 0.9906 - val_loss: 0.0857 - val_acc: 0.9510\n",
      "Epoch 4/20\n",
      "426/426 [==============================] - 0s 49us/step - loss: 0.0352 - acc: 0.9906 - val_loss: 0.0849 - val_acc: 0.9510\n",
      "Epoch 5/20\n",
      "426/426 [==============================] - 0s 40us/step - loss: 0.0345 - acc: 0.9906 - val_loss: 0.0857 - val_acc: 0.9580\n",
      "Epoch 6/20\n",
      "426/426 [==============================] - 0s 40us/step - loss: 0.0333 - acc: 0.9906 - val_loss: 0.0870 - val_acc: 0.9510\n",
      "Epoch 7/20\n",
      "426/426 [==============================] - 0s 59us/step - loss: 0.0323 - acc: 0.9906 - val_loss: 0.0868 - val_acc: 0.9510\n",
      "Epoch 8/20\n",
      "426/426 [==============================] - 0s 63us/step - loss: 0.0318 - acc: 0.9906 - val_loss: 0.0880 - val_acc: 0.9580\n",
      "Epoch 9/20\n",
      "426/426 [==============================] - 0s 59us/step - loss: 0.0306 - acc: 0.9906 - val_loss: 0.0877 - val_acc: 0.9510\n",
      "Epoch 10/20\n",
      "426/426 [==============================] - 0s 59us/step - loss: 0.0296 - acc: 0.9906 - val_loss: 0.0876 - val_acc: 0.9510\n",
      "Epoch 11/20\n",
      "426/426 [==============================] - 0s 37us/step - loss: 0.0288 - acc: 0.9906 - val_loss: 0.0875 - val_acc: 0.9510\n",
      "Epoch 12/20\n",
      "426/426 [==============================] - 0s 47us/step - loss: 0.0282 - acc: 0.9906 - val_loss: 0.0901 - val_acc: 0.9510\n",
      "Epoch 13/20\n",
      "426/426 [==============================] - 0s 52us/step - loss: 0.0273 - acc: 0.9906 - val_loss: 0.0907 - val_acc: 0.9510\n",
      "Epoch 14/20\n",
      "426/426 [==============================] - 0s 40us/step - loss: 0.0267 - acc: 0.9906 - val_loss: 0.0914 - val_acc: 0.9510\n",
      "Epoch 15/20\n",
      "426/426 [==============================] - 0s 44us/step - loss: 0.0259 - acc: 0.9906 - val_loss: 0.0930 - val_acc: 0.9510\n",
      "Epoch 16/20\n",
      "426/426 [==============================] - 0s 44us/step - loss: 0.0252 - acc: 0.9906 - val_loss: 0.0928 - val_acc: 0.9510\n",
      "Epoch 17/20\n",
      "426/426 [==============================] - 0s 49us/step - loss: 0.0244 - acc: 0.9906 - val_loss: 0.0945 - val_acc: 0.9510\n",
      "Epoch 18/20\n",
      "426/426 [==============================] - 0s 54us/step - loss: 0.0238 - acc: 0.9906 - val_loss: 0.0926 - val_acc: 0.9510\n",
      "Epoch 19/20\n",
      "426/426 [==============================] - 0s 63us/step - loss: 0.0232 - acc: 0.9930 - val_loss: 0.0926 - val_acc: 0.9510\n",
      "Epoch 20/20\n",
      "426/426 [==============================] - 0s 44us/step - loss: 0.0227 - acc: 0.9930 - val_loss: 0.0936 - val_acc: 0.9510\n"
     ]
    },
    {
     "data": {
      "text/plain": [
       "<keras.callbacks.History at 0x23bf57a20f0>"
      ]
     },
     "execution_count": 20,
     "metadata": {},
     "output_type": "execute_result"
    }
   ],
   "source": [
    "model.fit(x_train,ytr,epochs=20, batch_size=50, validation_data=(x_test,ytest))"
   ]
  },
  {
   "cell_type": "code",
   "execution_count": 23,
   "metadata": {},
   "outputs": [
    {
     "name": "stdout",
     "output_type": "stream",
     "text": [
      "143/143 [==============================] - 0s 35us/step\n"
     ]
    },
    {
     "data": {
      "text/plain": [
       "[0.09355666660345517, 0.9510489514657667]"
      ]
     },
     "execution_count": 23,
     "metadata": {},
     "output_type": "execute_result"
    }
   ],
   "source": [
    "pred = model.predict(x_test)\n",
    "pred\n",
    "score = model.evaluate(x_test,ytest)\n",
    "score"
   ]
  }
 ],
 "metadata": {
  "kernelspec": {
   "display_name": "Python 3",
   "language": "python",
   "name": "python3"
  },
  "language_info": {
   "codemirror_mode": {
    "name": "ipython",
    "version": 3
   },
   "file_extension": ".py",
   "mimetype": "text/x-python",
   "name": "python",
   "nbconvert_exporter": "python",
   "pygments_lexer": "ipython3",
   "version": "3.6.8"
  }
 },
 "nbformat": 4,
 "nbformat_minor": 2
}
