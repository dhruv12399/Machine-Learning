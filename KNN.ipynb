{
 "cells": [
  {
   "cell_type": "code",
   "execution_count": 46,
   "metadata": {},
   "outputs": [],
   "source": [
    "import numpy as np\n",
    "import pandas as pd\n",
    "from sklearn import datasets\n",
    "from sklearn.model_selection import train_test_split, cross_val_score\n",
    "from sklearn.neighbors import KNeighborsClassifier\n",
    "from sklearn.metrics import accuracy_score\n",
    "from collections import Counter"
   ]
  },
  {
   "cell_type": "code",
   "execution_count": 32,
   "metadata": {},
   "outputs": [],
   "source": [
    "dataset = datasets.load_breast_cancer()\n",
    "\n",
    "X_train, X_test, Y_train, Y_test = train_test_split(dataset.data, dataset.target, random_state=0)\n"
   ]
  },
  {
   "cell_type": "code",
   "execution_count": 33,
   "metadata": {},
   "outputs": [
    {
     "name": "stdout",
     "output_type": "stream",
     "text": [
      "1 0.9248826291079811\n",
      "3 0.9295774647887324\n",
      "5 0.931924882629108\n",
      "7 0.931924882629108\n",
      "9 0.9295774647887324\n",
      "11 0.92018779342723\n",
      "13 0.9154929577464789\n",
      "15 0.9131455399061034\n",
      "17 0.9131455399061034\n",
      "19 0.9178403755868545\n",
      "21 0.9154929577464789\n",
      "23 0.9107981220657276\n"
     ]
    },
    {
     "data": {
      "image/png": "[encoded data removed]",
      "text/plain": [
       "<Figure size 432x288 with 1 Axes>"
      ]
     },
     "metadata": {
      "needs_background": "light"
     },
     "output_type": "display_data"
    }
   ],
   "source": [
    "x = []\n",
    "y = []\n",
    "import matplotlib.pyplot as plt\n",
    "for i in range(1,25,2):\n",
    "    x.append(i)\n",
    "    clf = KNeighborsClassifier(n_neighbors=i)\n",
    "    score = cross_val_score(clf,X_train,Y_train)\n",
    "    y.append(score.mean())\n",
    "    print(i,score.mean())\n",
    "plt.plot(x,y)\n",
    "plt.grid()\n",
    "plt.show()\n",
    "# clf.fit(X_train, Y_train)\n",
    "# Y_pred = clf.predict(X_test)\n",
    "# clf.score(X_test, Y_test)"
   ]
  },
  {
   "cell_type": "code",
   "execution_count": 34,
   "metadata": {},
   "outputs": [
    {
     "data": {
      "text/plain": [
       "array([0.92253521, 0.90140845, 0.9084507 ])"
      ]
     },
     "execution_count": 34,
     "metadata": {},
     "output_type": "execute_result"
    }
   ],
   "source": [
    "cross_val_score(clf,X_train,Y_train)"
   ]
  },
  {
   "cell_type": "code",
   "execution_count": 53,
   "metadata": {},
   "outputs": [],
   "source": [
    "def train(X_train, Y_train):\n",
    "    return\n",
    "\n",
    "def predict_one(X_train, Y_train, x, k):\n",
    "    distances = []\n",
    "    for i in range(len(X_train)):\n",
    "        distance = ((x - X_train[i])**2).sum()\n",
    "        distances.append((distance,i))\n",
    "    targets = []\n",
    "    distances = sorted(distances)\n",
    "    for i in range(k):\n",
    "        targets.append(Y_train[distances[i][1]])\n",
    "    return Counter(targets).most_common(1)[0][0]\n",
    "        \n",
    "def predict(X_train, Y_train, X_test, k):\n",
    "    ans = []\n",
    "    for x in X_test:\n",
    "        ans.append(predict_one(X_train,Y_train,x,k))\n",
    "    return ans\n"
   ]
  },
  {
   "cell_type": "code",
   "execution_count": 54,
   "metadata": {},
   "outputs": [
    {
     "data": {
      "text/plain": [
       "0.9440559440559441"
      ]
     },
     "execution_count": 54,
     "metadata": {},
     "output_type": "execute_result"
    }
   ],
   "source": [
    "Y_pred = predict(X_train, Y_train, X_test,7)\n",
    "accuracy_score(Y_pred,Y_test)"
   ]
  },
  {
   "cell_type": "code",
   "execution_count": 52,
   "metadata": {},
   "outputs": [
    {
     "data": {
      "text/plain": [
       "1"
      ]
     },
     "execution_count": 52,
     "metadata": {},
     "output_type": "execute_result"
    }
   ],
   "source": [
    "a = [0,1,1,1,0]\n",
    "Counter(a).most_common(1)[0][0]"
   ]
  }
 ],
 "metadata": {
  "kernelspec": {
   "display_name": "Python 3",
   "language": "python",
   "name": "python3"
  },
  "language_info": {
   "codemirror_mode": {
    "name": "ipython",
    "version": 3
   },
   "file_extension": ".py",
   "mimetype": "text/x-python",
   "name": "python",
   "nbconvert_exporter": "python",
   "pygments_lexer": "ipython3",
   "version": "3.7.0"
  }
 },
 "nbformat": 4,
 "nbformat_minor": 2
}
