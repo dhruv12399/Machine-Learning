{
 "cells": [
  {
   "cell_type": "code",
   "execution_count": 6,
   "metadata": {},
   "outputs": [],
   "source": [
    "import numpy as np\n",
    "import math"
   ]
  },
  {
   "cell_type": "code",
   "execution_count": 3,
   "metadata": {},
   "outputs": [],
   "source": [
    "def h(a,m):\n",
    "    q = math.exp(-a)\n",
    "    return 1/(1+q)"
   ]
  },
  {
   "cell_type": "code",
   "execution_count": 4,
   "metadata": {},
   "outputs": [],
   "source": [
    "def step_gradient(data,lr,m):\n",
    "    N = len(data)\n",
    "    n = len(m)\n",
    "    m_slope = np.zeros(n)\n",
    "    m_new = np.zeros(n)\n",
    "    for i in range(N):\n",
    "        a = np.dot(m,data[i][:-1])\n",
    "        for j in range(n):\n",
    "            x = data[i,j]\n",
    "            y = data[i,n]\n",
    "            sig = h(a,m)\n",
    "            m_slope[j] += (1/N)*(sig-y)*x\n",
    "            m_new[j] = m[j]-lr*m_slope[j]\n",
    "    return m_new\n"
   ]
  },
  {
   "cell_type": "code",
   "execution_count": 7,
   "metadata": {},
   "outputs": [],
   "source": [
    "def cost(data,m):\n",
    "    total_cost = 0\n",
    "    N = len(data)\n",
    "    n = len(m)\n",
    "    for i in range(N):\n",
    "        a = np.dot(m,data[i][:-1])\n",
    "        sig = h(a,m)\n",
    "        y = data[i,n]\n",
    "        t1 = y*math.log(sig)\n",
    "        t2 = (1-y)*math.log(1-sig)\n",
    "        total_cost += (-1/N)*(t1+t2)\n",
    "    return total_cost"
   ]
  },
  {
   "cell_type": "code",
   "execution_count": 57,
   "metadata": {},
   "outputs": [],
   "source": [
    "def gd(data,lr,ni):\n",
    "    m=np.zeros(len(data[0][:-1]))\n",
    "    for i in range(ni):\n",
    "        m = step_gradient(data,lr,m)\n",
    "        print(\"Cost \",i, \" \", cost(data,m))\n",
    "    return m"
   ]
  },
  {
   "cell_type": "code",
   "execution_count": 1,
   "metadata": {},
   "outputs": [],
   "source": [
    "def run():\n",
    "    data = np.loadtxt(\"C:/Users/Dhruv/Desktop/Machine Learning/Datasets/data.csv\", delimiter=\",\")\n",
    "    data = np.insert(data,-1,1,axis=1)\n",
    "    lr = 0.0001\n",
    "    ni = 100\n",
    "    m = gd(data,lr,ni)\n",
    "    print(m)"
   ]
  },
  {
   "cell_type": "code",
   "execution_count": 11,
   "metadata": {},
   "outputs": [
    {
     "name": "stderr",
     "output_type": "stream",
     "text": [
      "ERROR:root:File `'().py'` not found.\n"
     ]
    }
   ],
   "source": [
    "run()"
   ]
  },
  {
   "cell_type": "code",
   "execution_count": null,
   "metadata": {},
   "outputs": [],
   "source": []
  }
 ],
 "metadata": {
  "kernelspec": {
   "display_name": "Python 3",
   "language": "python",
   "name": "python3"
  },
  "language_info": {
   "codemirror_mode": {
    "name": "ipython",
    "version": 3
   },
   "file_extension": ".py",
   "mimetype": "text/x-python",
   "name": "python",
   "nbconvert_exporter": "python",
   "pygments_lexer": "ipython3",
   "version": "3.7.0"
  }
 },
 "nbformat": 4,
 "nbformat_minor": 2
}
