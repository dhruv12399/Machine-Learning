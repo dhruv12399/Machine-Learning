{
 "cells": [
  {
   "cell_type": "code",
   "execution_count": null,
   "metadata": {},
   "outputs": [],
   "source": [
    "a=10\n",
    "print(a)"
   ]
  },
  {
   "cell_type": "code",
   "execution_count": null,
   "metadata": {},
   "outputs": [],
   "source": [
    "str1 = 'hello'\n",
    "print(str1[-1:])"
   ]
  },
  {
   "cell_type": "code",
   "execution_count": null,
   "metadata": {},
   "outputs": [],
   "source": [
    "n = int(input())\n",
    "for i in range(1,n+1):\n",
    "    for j in range(i):\n",
    "        print(j+1, end=\"\")\n",
    "    for k in range(n-i):\n",
    "        print(\" \", end = \"\")\n",
    "    for l in range(n-i):\n",
    "        print(\" \", end = \"\")\n",
    "    for m in range(i,0,-1):\n",
    "        print(m, end=\"\")\n",
    "    print()"
   ]
  },
  {
   "cell_type": "code",
   "execution_count": null,
   "metadata": {},
   "outputs": [],
   "source": [
    "s = input()\n",
    "a = s.split(\" \")\n",
    "p = \"\"\n",
    "for x in a:\n",
    "    t=(x[::-1])\n",
    "    p = p + t + \" \"\n",
    "p = p.strip()\n",
    "print(p)\n",
    "\n"
   ]
  },
  {
   "cell_type": "code",
   "execution_count": null,
   "metadata": {},
   "outputs": [],
   "source": [
    "# even fibonacci\n",
    "n = int(input())\n",
    "ans=0\n",
    "num = 0\n",
    "num2 = 1\n",
    "while(True):    \n",
    "    tba = num + num2\n",
    "    if tba%2==0 and tba<=n:\n",
    "        ans+=tba\n",
    "    num = num2\n",
    "    num2 =  tba\n",
    "#     print (num)\n",
    "    if(num>n):\n",
    "        break\n",
    "    \n",
    "print(ans)"
   ]
  },
  {
   "cell_type": "code",
   "execution_count": null,
   "metadata": {},
   "outputs": [],
   "source": [
    "n = int(input())\n",
    "q=1\n",
    "for i in range(n+1):\n",
    "    w=[]\n",
    "    for j in range(i):\n",
    "        w.append(q)\n",
    "        q+=1\n",
    "    if i%2==0:\n",
    "        w = w[::-1]\n",
    "    for x in w:\n",
    "        print(x,end = \" \")\n",
    "    print()"
   ]
  },
  {
   "cell_type": "code",
   "execution_count": null,
   "metadata": {},
   "outputs": [],
   "source": [
    "n = int(input())\n",
    "t=n\n",
    "p2=1\n",
    "p10=1\n",
    "ans=0\n",
    "while(t>0):\n",
    "    if t % p2 == 0:\n",
    "        ans += p10\n",
    "    t/=2\n",
    "    p10*=10\n",
    "    p2*=2\n",
    "print (ans)"
   ]
  },
  {
   "cell_type": "code",
   "execution_count": 9,
   "metadata": {},
   "outputs": [
    {
     "name": "stdout",
     "output_type": "stream",
     "text": [
      "12\n",
      "1100\n"
     ]
    }
   ],
   "source": [
    "n = int(input())\n",
    "t=int(n)\n",
    "p10=1\n",
    "ans=0\n",
    "while(t>0):\n",
    "#     print(type(t))\n",
    "    if t&1:\n",
    "        ans +=p10\n",
    "    t=t//2\n",
    "    p10*=10\n",
    "print (ans)"
   ]
  },
  {
   "cell_type": "code",
   "execution_count": 11,
   "metadata": {},
   "outputs": [
    {
     "name": "stdout",
     "output_type": "stream",
     "text": [
      "11\n",
      "2\n",
      "3\n",
      "5\n",
      "7\n",
      "11\n"
     ]
    }
   ],
   "source": [
    "#prime numbers\n",
    "n = int(input())\n",
    "for i in range(2,n+1):\n",
    "    flag=0\n",
    "    for j in range(2,i):\n",
    "        if i%j==0:\n",
    "            flag=1\n",
    "    if flag==0:\n",
    "        print(i)\n",
    "        "
   ]
  },
  {
   "cell_type": "code",
   "execution_count": 7,
   "metadata": {},
   "outputs": [
    {
     "name": "stdout",
     "output_type": "stream",
     "text": [
      "50\n",
      "12\n"
     ]
    }
   ],
   "source": [
    "n = int(input())\n",
    "i=5\n",
    "ans=0\n",
    "while(n/i>=1):\n",
    "        ans += int(n/i)\n",
    "        i*=5\n",
    "print (ans)"
   ]
  },
  {
   "cell_type": "code",
   "execution_count": 9,
   "metadata": {},
   "outputs": [
    {
     "data": {
      "text/plain": [
       "['h', 'e', 'l', 'l', 'o']"
      ]
     },
     "execution_count": 9,
     "metadata": {},
     "output_type": "execute_result"
    }
   ],
   "source": [
    "a = list(\"hello\")\n",
    "a"
   ]
  },
  {
   "cell_type": "code",
   "execution_count": 10,
   "metadata": {},
   "outputs": [
    {
     "name": "stdout",
     "output_type": "stream",
     "text": [
      "['h', 'e', 'l', 'l', 'o']\n"
     ]
    }
   ],
   "source": [
    " print([i.lower() for i in \"HELLO\"])"
   ]
  },
  {
   "cell_type": "code",
   "execution_count": 29,
   "metadata": {},
   "outputs": [
    {
     "name": "stdout",
     "output_type": "stream",
     "text": [
      "7\n",
      "7 6 5 4 3 2 1 \n",
      "1 2 3 4 5 6 7 "
     ]
    }
   ],
   "source": [
    "#selection sort\n",
    "n = int(input())\n",
    "l = [int(x) for x in input().strip().split(\" \")]\n",
    "for i in range(n):\n",
    "    m = i\n",
    "    for j in range(i+1,n):\n",
    "        if(l[j]<l[m]):\n",
    "            m=j\n",
    "    l[i], l[m] = l[m], l[i]\n",
    "for i in l:\n",
    "    print(i, end=\" \")"
   ]
  },
  {
   "cell_type": "code",
   "execution_count": 2,
   "metadata": {},
   "outputs": [
    {
     "name": "stdout",
     "output_type": "stream",
     "text": [
      "7\n",
      "2 3 1 6 5 4 7\n",
      "1\n",
      "2\n",
      "3\n",
      "4\n",
      "5\n",
      "6\n",
      "7\n"
     ]
    }
   ],
   "source": [
    "#selection sort\n",
    "n = int(input())\n",
    "l = [int(x) for x in input().split(\" \")]\n",
    "for i in range(n):\n",
    "    m = i\n",
    "    for j in range(i+1,n):\n",
    "        if(l[j]<=l[m]):\n",
    "            m=j\n",
    "    l[i], l[m] = l[m], l[i]\n",
    "for x in l:\n",
    "    print(x)"
   ]
  },
  {
   "cell_type": "code",
   "execution_count": 22,
   "metadata": {},
   "outputs": [
    {
     "name": "stdout",
     "output_type": "stream",
     "text": [
      "7\n",
      "-7 1 3 2 -4 3 0\n",
      "-1\n"
     ]
    }
   ],
   "source": [
    "n = int(input())\n",
    "l = [int(x) for x in input().strip().split(\" \")]\n",
    "flag=0\n",
    "x = []\n",
    "x.append(l[0])\n",
    "y=[]\n",
    "for i in range(1,n):\n",
    "     x.append(x[i-1]+l[i])\n",
    "\n",
    "l = l[::-1]\n",
    "y.append(l[0])\n",
    "for j in range(1,n):\n",
    "    y.append(y[j-1]+l[j])\n",
    "y = y[::-1]\n",
    "for i in range(1,n-1):\n",
    "    if x[i-1]==y[i+1]:\n",
    "        print (i)\n",
    "        flag=1\n",
    "        break\n",
    "if flag==0:\n",
    "    print(-1)\n",
    "# for t in x:\n",
    "#     print(t, end=\" \")\n",
    "# print()\n",
    "# for t in y:\n",
    "#     print(t, end=\" \")"
   ]
  },
  {
   "cell_type": "code",
   "execution_count": 28,
   "metadata": {},
   "outputs": [
    {
     "name": "stdout",
     "output_type": "stream",
     "text": [
      "5\n",
      "6 3 12 34 2\n",
      "34 2 "
     ]
    }
   ],
   "source": [
    "n = int(input())\n",
    "l = [int(x) for x in input().strip().split(\" \")]\n",
    "l = l[::-1]\n",
    "x=[]\n",
    "m = -1000000000\n",
    "for i in range(n):\n",
    "    if l[i]>=m :\n",
    "        x.append(l[i])\n",
    "        m=l[i]\n",
    "x = x[::-1]\n",
    "for t in x:\n",
    "    print(t, end=\" \")"
   ]
  },
  {
   "cell_type": "code",
   "execution_count": 32,
   "metadata": {},
   "outputs": [
    {
     "name": "stdout",
     "output_type": "stream",
     "text": [
      "Welcome to Coding Ninjas\n",
      "Ninjas Coding to Welcome\n"
     ]
    }
   ],
   "source": [
    "l = [x for x in input().strip().split(\" \")]\n",
    "print(\" \".join(l[::-1]))"
   ]
  },
  {
   "cell_type": "code",
   "execution_count": 40,
   "metadata": {},
   "outputs": [
    {
     "name": "stdout",
     "output_type": "stream",
     "text": [
      "6\n",
      "1 5 10 15 20 25\n",
      "5\n",
      "2 4 5 9 15\n",
      "81\n"
     ]
    }
   ],
   "source": [
    "n = int(input())\n",
    "l1 = [int(x) for x in input().strip().split(\" \")]\n",
    "m = int(input())\n",
    "l2 = [int(x) for x in input().strip().split(\" \")]\n",
    "s1=0\n",
    "s2=0\n",
    "i1=0\n",
    "i2=0\n",
    "ans=0\n",
    "while i1<n and i2<m:\n",
    "    if l1[i1]<l2[i2]:\n",
    "        s1+=l1[i1]\n",
    "        i1+=1\n",
    "    elif l2[i2]<l1[i1]:\n",
    "        s2+=l2[i2]\n",
    "        i2+=1\n",
    "    else:\n",
    "        ans+=max(s1,s2)\n",
    "        s1=0\n",
    "        s2=0\n",
    "        while i1<n and i2<m and l1[i1]==l2[i2]:\n",
    "            ans+=l1[i1]\n",
    "            i1+=1\n",
    "            i2+=1\n",
    "while i1<n:\n",
    "    s1+=l1[i1]\n",
    "    i1+=1\n",
    "while i2<m:\n",
    "    s2+=l2[i2]\n",
    "    i2+=1\n",
    "ans+=max(s1,s2)\n",
    "\n",
    "print(ans)\n",
    "        "
   ]
  },
  {
   "cell_type": "code",
   "execution_count": 49,
   "metadata": {},
   "outputs": [
    {
     "name": "stdout",
     "output_type": "stream",
     "text": [
      "ccvvchcbchccccccjjhjhjhkkc\n",
      "vch"
     ]
    }
   ],
   "source": [
    "s = input()\n",
    "\n",
    "n = len(s)\n",
    "c=0\n",
    "m=1\n",
    "p=0\n",
    "i=0\n",
    "st=0\n",
    "start=0\n",
    "v = [-1]*256\n",
    "v[ord(s[0])]=0\n",
    "# for i in range(1,n):\n",
    "#     p = v[ord(s[i])] \n",
    "#     if p==-1 or i-c>p:\n",
    "#         c+=1\n",
    "#     else:\n",
    "#         if m<c:\n",
    "#             m=c\n",
    "#         c = i-p\n",
    "#     v[ord(s[i])]=i\n",
    "# if m<c:\n",
    "#     m=c\n",
    "# print(m)\n",
    "for i in range(1,n):\n",
    "    p = v[ord(s[i])]\n",
    "    if (p==-1):\n",
    "        v[ord(s[i])]=i\n",
    "\n",
    "    else : \n",
    "        if (p >= st):  \n",
    "            c = i - st\n",
    "            if (m < c): \n",
    "                m = c \n",
    "                start = st\n",
    "            st = p + 1\n",
    "        v[ord(s[i])] = i\n",
    "\n",
    "    if (m < i - st): \n",
    "        m = i - st\n",
    "        start = st  \n",
    "\n",
    "for i in range(start,start+m):\n",
    "    print(s[i], end=\"\")"
   ]
  },
  {
   "cell_type": "code",
   "execution_count": 56,
   "metadata": {},
   "outputs": [
    {
     "name": "stdout",
     "output_type": "stream",
     "text": [
      "3 3\n",
      "3 6 9 1 4 7 2 8 9\n",
      "column  2   25\n"
     ]
    }
   ],
   "source": [
    "s = input().strip().split(\" \")\n",
    "n = int(s[0])\n",
    "m = int(s[1])\n",
    "l = [int(i) for i in input().strip().split()]\n",
    "l2 = [[l[i*m+j] for j in range(m)]for i in range(n)]\n",
    "r=0\n",
    "c=0\n",
    "mr = 0\n",
    "mc = 0\n",
    "for i in range(n):\n",
    "    s=0\n",
    "    for j in range(m):\n",
    "        s+=l2[i][j]\n",
    "    if mr<s:\n",
    "        mr=s\n",
    "        r=i\n",
    "for j in range(m):\n",
    "    s=0\n",
    "    for i in range(n):\n",
    "        s+=l2[i][j]\n",
    "    if mc<s:\n",
    "        mc=s\n",
    "        c=j\n",
    "if(mr>mc):\n",
    "    print(\"row \",r,\" \",mr )\n",
    "elif(mc>mr):\n",
    "    print(\"column \",c,\" \",mc)\n",
    "else:\n",
    "    print(\"row \",r,\" \",mr )\n",
    "# print(mr,\" \",r)\n",
    "# print()\n",
    "# print(mc,\" \",c)"
   ]
  },
  {
   "cell_type": "code",
   "execution_count": 70,
   "metadata": {},
   "outputs": [
    {
     "name": "stdout",
     "output_type": "stream",
     "text": [
      "1 1 39\n",
      "39 "
     ]
    }
   ],
   "source": [
    "s = input().strip().split(\" \")\n",
    "n = int(s[0])\n",
    "m = int(s[1])\n",
    "l = [int(s[i+2]) for i in range(n*m)]\n",
    "l2 = [[l[i*m+j] for j in range(m)]for i in range(n)]\n",
    "\n",
    "def spiralPrint(m, n, a) : \n",
    "    k = 0\n",
    "    l = 0\n",
    "    while (k < m and l < n) :      \n",
    "        for i in range(l, n) : \n",
    "            print(a[k][i], end = \" \") \n",
    "        k += 1\n",
    "        for i in range(k, m) : \n",
    "            print(a[i][n - 1], end = \" \") \n",
    "        n -= 1\n",
    "        if ( k < m) : \n",
    "            for i in range(n - 1, (l - 1), -1) : \n",
    "                print(a[m - 1][i], end = \" \") \n",
    "            m -= 1\n",
    "        if (l < n) : \n",
    "            for i in range(m - 1, k - 1, -1) : \n",
    "                print(a[i][l], end = \" \") \n",
    "            l += 1\n",
    "            \n",
    "spiralPrint(n, m, l2)"
   ]
  }
 ],
 "metadata": {
  "kernelspec": {
   "display_name": "Python 3",
   "language": "python",
   "name": "python3"
  },
  "language_info": {
   "codemirror_mode": {
    "name": "ipython",
    "version": 3
   },
   "file_extension": ".py",
   "mimetype": "text/x-python",
   "name": "python",
   "nbconvert_exporter": "python",
   "pygments_lexer": "ipython3",
   "version": "3.7.0"
  }
 },
 "nbformat": 4,
 "nbformat_minor": 2
}
