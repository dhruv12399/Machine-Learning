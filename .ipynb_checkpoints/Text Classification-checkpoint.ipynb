{
 "cells": [
  {
   "cell_type": "code",
   "execution_count": 37,
   "metadata": {},
   "outputs": [
    {
     "name": "stdout",
     "output_type": "stream",
     "text": [
      "{'data': [], 'filenames': array([], dtype=float64), 'target_names': [], 'target': array([], dtype=float64), 'DESCR': None}\n"
     ]
    },
    {
     "data": {
      "text/plain": [
       "array([], dtype=float64)"
      ]
     },
     "execution_count": 37,
     "metadata": {},
     "output_type": "execute_result"
    }
   ],
   "source": [
    "import numpy as np\n",
    "import pandas as pd\n",
    "from sklearn.datasets import load_files\n",
    "import os\n",
    "datapath = \"C:/Users/Dhruv/Desktop/Machine Learning/Datasets/Text_classification/20_newsgroups/20_newsgroups/\"\n",
    "data = load_files(\"C:/Users/Dhruv/Desktop/Machine Learning/Datasets/Text_classification/20_newsgroups/20_newsgroups/alt.atheism/\")\n",
    "print(data)\n",
    "# listing = os.listdir(datapath)\n",
    "# for i in listing:\n",
    "#     folder = datapath + i\n",
    "#     print(type(folder))\n",
    "#     files = os.listdir(folder)\n",
    "#     for file in files:\n",
    "# #         print()\n",
    "#         final_path = folder + '/' + file\n",
    "#         text = np.loadtxt(final_path)\n",
    "# text"
   ]
  }
 ],
 "metadata": {
  "kernelspec": {
   "display_name": "Python 3",
   "language": "python",
   "name": "python3"
  },
  "language_info": {
   "codemirror_mode": {
    "name": "ipython",
    "version": 3
   },
   "file_extension": ".py",
   "mimetype": "text/x-python",
   "name": "python",
   "nbconvert_exporter": "python",
   "pygments_lexer": "ipython3",
   "version": "3.7.0"
  }
 },
 "nbformat": 4,
 "nbformat_minor": 2
}
