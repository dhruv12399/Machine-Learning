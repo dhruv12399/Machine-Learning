{
 "cells": [
  {
   "cell_type": "code",
   "execution_count": 1,
   "metadata": {},
   "outputs": [],
   "source": [
    "import tensorflow as tf"
   ]
  },
  {
   "cell_type": "code",
   "execution_count": 9,
   "metadata": {},
   "outputs": [
    {
     "name": "stdout",
     "output_type": "stream",
     "text": [
      "Tensor(\"Add_4:0\", shape=(), dtype=int32)\n"
     ]
    }
   ],
   "source": [
    "a = tf.constant(2)\n",
    "b = tf.constant(3)\n",
    "c = tf.add(a, b)\n",
    "with tf.Session() as sess:\n",
    "    c.eval()\n",
    "    print(c)"
   ]
  },
  {
   "cell_type": "code",
   "execution_count": 10,
   "metadata": {},
   "outputs": [],
   "source": [
    "from tensorflow.examples.tutorials.mnist import input_data"
   ]
  },
  {
   "cell_type": "code",
   "execution_count": 15,
   "metadata": {},
   "outputs": [
    {
     "name": "stdout",
     "output_type": "stream",
     "text": [
      "Extracting MNIST_data/train-images-idx3-ubyte.gz\n",
      "Extracting MNIST_data/train-labels-idx1-ubyte.gz\n",
      "Extracting MNIST_data/t10k-images-idx3-ubyte.gz\n",
      "Extracting MNIST_data/t10k-labels-idx1-ubyte.gz\n"
     ]
    }
   ],
   "source": [
    "mnist = input_data.read_data_sets(\"MNIST_data/\", one_hot=True)"
   ]
  },
  {
   "cell_type": "code",
   "execution_count": 17,
   "metadata": {},
   "outputs": [],
   "source": [
    "n_input = 784\n",
    "n_h1 = 256\n",
    "n_h2 = 256\n",
    "n_output = 10\n",
    "\n",
    "weights = {\n",
    "    'h1':tf.Variable(tf.random_normal([n_input,n_h1])),\n",
    "    'h2':tf.Variable(tf.random_normal([n_h1,n_h2])),\n",
    "    'out':tf.Variable(tf.random_normal([n_h2,n_output]))\n",
    "}\n",
    "\n",
    "bias = {\n",
    "    'h1':tf.Variable(tf.random_normal([n_h1])),\n",
    "    'h2':tf.Variable(tf.random_normal([n_h2])),\n",
    "    'out':tf.Variable(tf.random_normal([n_output]))\n",
    "}"
   ]
  },
  {
   "cell_type": "code",
   "execution_count": 19,
   "metadata": {},
   "outputs": [],
   "source": [
    "def fp(x,weights,bias):\n",
    "    in_layer1 = tf.add(tf.matmul(x,weights['h1']), bias['h1'])\n",
    "    out_layer1 = tf.nn.relu(in_layer1)\n",
    "    \n",
    "    in_layer2 = tf.add(tf.matmul(out_layer1,weights['h2']), bias['h2'])\n",
    "    out_layer2 = tf.nn.relu(in_layer2)\n",
    "    \n",
    "    output = tf.add(tf.matmul(out_layer2,weights['out']), bias['out'])\n",
    "    return output\n",
    "    "
   ]
  },
  {
   "cell_type": "code",
   "execution_count": 44,
   "metadata": {},
   "outputs": [],
   "source": [
    "x = tf.placeholder('float', [None,n_input])\n",
    "y = tf.placeholder(tf.int32, [None,n_output])\n",
    "pred = fp(x,weights,bias)"
   ]
  },
  {
   "cell_type": "code",
   "execution_count": 45,
   "metadata": {},
   "outputs": [],
   "source": [
    "cost = tf.reduce_mean(tf.nn.softmax_cross_entropy_with_logits(logits=pred, labels=y))"
   ]
  },
  {
   "cell_type": "code",
   "execution_count": 65,
   "metadata": {},
   "outputs": [],
   "source": [
    "optimizer = tf.train.AdamOptimizer(learning_rate=0.001)\n",
    "optimise = optimizer.minimize(cost)"
   ]
  },
  {
   "cell_type": "code",
   "execution_count": 67,
   "metadata": {},
   "outputs": [],
   "source": [
    "sess = tf.Session()\n",
    "sess.run(tf.global_variables_initializer())"
   ]
  },
  {
   "cell_type": "code",
   "execution_count": 68,
   "metadata": {},
   "outputs": [
    {
     "name": "stdout",
     "output_type": "stream",
     "text": [
      "87080.33000278473\n",
      "22011.183981895447\n",
      "14011.753220915794\n",
      "9956.91701027751\n",
      "7302.042106308276\n",
      "5366.711888342648\n",
      "3993.593802023667\n",
      "2992.718747604189\n",
      "2252.6220708664655\n",
      "1762.6051312883305\n",
      "1338.542291089931\n",
      "990.3624546804781\n",
      "761.2369362004424\n",
      "598.6675165748217\n",
      "522.3582741595749\n",
      "408.10915100375126\n",
      "328.19893669898846\n",
      "276.4821155203641\n",
      "251.13218207833205\n",
      "268.3872389746067\n",
      "256.105929819587\n",
      "213.5517481415493\n",
      "212.0765445840358\n",
      "154.36057858547866\n",
      "176.09094770531712\n"
     ]
    }
   ],
   "source": [
    "batch_size = 100\n",
    "for i in range(25):\n",
    "    num_batches = int(mnist.train.num_examples/batch_size)\n",
    "    total_cost=0\n",
    "    for j in range(num_batches):\n",
    "        batch_x, batch_y = mnist.train.next_batch(batch_size)\n",
    "        c,_ = sess.run([cost,optimise], feed_dict={x:batch_x, y:batch_y})\n",
    "        total_cost += c\n",
    "    print(total_cost)"
   ]
  },
  {
   "cell_type": "code",
   "execution_count": 70,
   "metadata": {},
   "outputs": [
    {
     "data": {
      "text/plain": [
       "9542"
      ]
     },
     "execution_count": 70,
     "metadata": {},
     "output_type": "execute_result"
    }
   ],
   "source": [
    "predictions = tf.argmax(pred, axis=1)\n",
    "true_labels = tf.argmax(y, axis=1)\n",
    "correct_predictions = tf.equal(predictions,true_labels)\n",
    "predictions_eval, correct_pred = sess.run([predictions,correct_predictions], feed_dict={x:mnist.test.images, y:mnist.test.labels})\n",
    "correct_pred.sum()"
   ]
  },
  {
   "cell_type": "code",
   "execution_count": 61,
   "metadata": {},
   "outputs": [],
   "source": []
  }
 ],
 "metadata": {
  "kernelspec": {
   "display_name": "Python 3",
   "language": "python",
   "name": "python3"
  },
  "language_info": {
   "codemirror_mode": {
    "name": "ipython",
    "version": 3
   },
   "file_extension": ".py",
   "mimetype": "text/x-python",
   "name": "python",
   "nbconvert_exporter": "python",
   "pygments_lexer": "ipython3",
   "version": "3.6.8"
  }
 },
 "nbformat": 4,
 "nbformat_minor": 2
}
