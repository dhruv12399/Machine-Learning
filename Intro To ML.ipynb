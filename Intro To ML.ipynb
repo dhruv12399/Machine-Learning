{
 "cells": [
  {
   "cell_type": "code",
   "execution_count": 1,
   "metadata": {},
   "outputs": [
    {
     "name": "stdout",
     "output_type": "stream",
     "text": [
      "              AGE         SEX         BMI          BP          S1          S2  \\\n",
      "count  331.000000  331.000000  331.000000  331.000000  331.000000  331.000000   \n",
      "mean    -0.000214   -0.000293    0.000053   -0.001045   -0.001423   -0.001220   \n",
      "std      0.047207    0.047618    0.048627    0.047621    0.047371    0.046936   \n",
      "min     -0.107226   -0.044642   -0.090275   -0.102071   -0.126781   -0.115613   \n",
      "25%     -0.034575   -0.044642   -0.035307   -0.036656   -0.035968   -0.029967   \n",
      "50%      0.005383   -0.044642   -0.008362   -0.005671   -0.004321   -0.004445   \n",
      "75%      0.038076    0.050680    0.030979    0.032775    0.027326    0.028905   \n",
      "max      0.110727    0.050680    0.170555    0.132044    0.153914    0.198788   \n",
      "\n",
      "               S3          S4          S5          S6  \n",
      "count  331.000000  331.000000  331.000000  331.000000  \n",
      "mean     0.000440   -0.001473   -0.001594    0.000099  \n",
      "std      0.047303    0.046591    0.048088    0.047263  \n",
      "min     -0.102307   -0.076395   -0.126097   -0.137767  \n",
      "25%     -0.032356   -0.039493   -0.035817   -0.034215  \n",
      "50%     -0.006584   -0.002592   -0.005145   -0.001078  \n",
      "75%      0.026550    0.034309    0.032124    0.027917  \n",
      "max      0.181179    0.185234    0.133599    0.135612  \n"
     ]
    }
   ],
   "source": [
    "from sklearn import datasets\n",
    "import pandas as pd\n",
    "import numpy as np\n",
    "from sklearn import model_selection\n",
    "from sklearn.linear_model import LinearRegression\n",
    "import matplotlib.pyplot as plt\n",
    "\n",
    "# diabetes = datasets.load_diabetes()\n",
    "# X = diabetes.data\n",
    "# Y = diabetes.target\n",
    "\n",
    "diabetes = np.genfromtxt(\"C:/Users/Dhruv/Desktop/Machine Learning/Datasets/Diabetes/0000000000002329_training_diabetes_x_y_train.csv\", delimiter=\",\")\n",
    "diabetes_test = np.genfromtxt(\"C:/Users/Dhruv/Desktop/Machine Learning/Datasets/Diabetes/0000000000002329_test_diabetes_x_test.csv\", delimiter=\",\")\n",
    "# print(diabetes.shape)\n",
    "X = diabetes[:,0:10]\n",
    "Y = diabetes[:,10]\n",
    "# print (diabetes_test.shape)\n",
    "X_test = diabetes_test[:,0:10]\n",
    "# Y_test = diabetes_test[:,10]\n",
    "\n",
    "df = pd.DataFrame(X)\n",
    "# df.columns = diabetes.feature_names\n",
    "df.columns  = [\"AGE\", \"SEX\", \"BMI\", \"BP\", \"S1\", \"S2\", \"S3\", \"S4\", \"S5\", \"S6\"]\n",
    "print(df.describe())\n",
    "# print (diabetes.DESCR)\n",
    "\n",
    "# X_train, X_test, Y_train, Y_test = model_selection.train_test_split(X,Y)\n",
    "\n",
    "alg1 = LinearRegression()\n",
    "\n",
    "alg1.fit(X,Y)\n",
    "\n",
    "Y_pred = alg1.predict(X_test)\n",
    "Y_pred = np.around(Y_pred,decimals=5)\n",
    "np.savetxt(\"C:/Users/Dhruv/Desktop/Machine Learning/Datasets/Diabetes/predictions.csv\",Y_pred)\n",
    "# plt.scatter(Y_test,Y_pred)\n",
    "# plt.plot([0,300],[0,300], color = \"red\")\n",
    "# plt.show()\n"
   ]
  }
 ],
 "metadata": {
  "kernelspec": {
   "display_name": "Python 3",
   "language": "python",
   "name": "python3"
  },
  "language_info": {
   "codemirror_mode": {
    "name": "ipython",
    "version": 3
   },
   "file_extension": ".py",
   "mimetype": "text/x-python",
   "name": "python",
   "nbconvert_exporter": "python",
   "pygments_lexer": "ipython3",
   "version": "3.7.0"
  }
 },
 "nbformat": 4,
 "nbformat_minor": 2
}
