{
 "cells": [
  {
   "cell_type": "code",
   "execution_count": 44,
   "metadata": {},
   "outputs": [],
   "source": [
    "import numpy as np"
   ]
  },
  {
   "cell_type": "code",
   "execution_count": 54,
   "metadata": {},
   "outputs": [],
   "source": [
    "def fit(X_train, Y_train):\n",
    "    result = {}\n",
    "    class_values = set(Y_train)\n",
    "    for i in class_values:\n",
    "        result[i] = {}\n",
    "        result[\"total_data\"] = len(Y_train)\n",
    "        cur_data = (Y_train==i)\n",
    "        X_cur = X_train[cur_data]\n",
    "        Y_cur = Y_train[cur_data]\n",
    "        num_features = X_train.shape[-1]\n",
    "        result[i][\"total_count\"] = len(cur_data)\n",
    "#         print(\"cur_data: \" , cur_data.sum())\n",
    "        for j in range(1,num_features+1):\n",
    "            result[i][j] = {}\n",
    "            all_values = set(X[:,j-1])\n",
    "            for value in all_values:\n",
    "                result[i][j][value] = (X_cur[:,j-1] == value).sum()\n",
    "    return result"
   ]
  },
  {
   "cell_type": "code",
   "execution_count": 46,
   "metadata": {},
   "outputs": [],
   "source": [
    "def label(col):\n",
    "    l2 = col.mean()\n",
    "    l1 = 0.5 * l2\n",
    "    l3 = 1.5 * l2\n",
    "    for i in range(len(col)):\n",
    "        if col[i]<=l1:\n",
    "            col[i]=0\n",
    "        elif col[i]<=l2:\n",
    "            col[i]=1\n",
    "        elif col[i]<=l3:\n",
    "            col[i]=2\n",
    "        else:\n",
    "            col[i]=3\n",
    "    return col"
   ]
  },
  {
   "cell_type": "code",
   "execution_count": 47,
   "metadata": {},
   "outputs": [],
   "source": [
    "def probability(dictionary,x,i):\n",
    "    ans = np.log(dictionary[i][\"total_count\"]) - np.log(dictionary[\"total_data\"])\n",
    "    num_features = len(dictionary[i].keys())-1\n",
    "    for j in range(1,num_features+1):\n",
    "        num = dictionary[i][j][x[j-1]] + 1\n",
    "        deno = dictionary[i][\"total_count\"] + len(dictionary[i][j].keys())\n",
    "        prob = np.log(num) - np.log(deno)\n",
    "        ans += prob\n",
    "    return ans"
   ]
  },
  {
   "cell_type": "code",
   "execution_count": 48,
   "metadata": {},
   "outputs": [],
   "source": [
    "def predSinglePoint(dictionary, x):\n",
    "    all_class = dictionary.keys()\n",
    "    pmax = -1000\n",
    "    bestclass = -1\n",
    "    FirstRun = True\n",
    "    for i in all_class:\n",
    "        if i == \"total_data\":\n",
    "            continue\n",
    "        p = probability(dictionary, x, i)\n",
    "        if(p>pmax or FirstRun):\n",
    "            pmax = p\n",
    "            bestclass = i\n",
    "        FirstRun = False\n",
    "    return bestclass"
   ]
  },
  {
   "cell_type": "code",
   "execution_count": 49,
   "metadata": {},
   "outputs": [],
   "source": [
    "def predict(dictionary, X_test):\n",
    "    ans = []\n",
    "    for x in X_test:\n",
    "        y = predSinglePoint(dictionary,x)\n",
    "        ans.append(y)\n",
    "    return ans"
   ]
  },
  {
   "cell_type": "code",
   "execution_count": 50,
   "metadata": {},
   "outputs": [],
   "source": [
    "from sklearn import datasets\n",
    "iris = datasets.load_iris()\n",
    "X = iris.data\n",
    "Y = iris.target\n",
    "for i in range(X.shape[-1]):\n",
    "    X[:,i] = label(X[:,i])\n"
   ]
  },
  {
   "cell_type": "code",
   "execution_count": 58,
   "metadata": {},
   "outputs": [],
   "source": [
    "from sklearn import model_selection\n",
    "\n",
    "X_train, X_test, Y_train, Y_test = model_selection.train_test_split(X,Y, test_size = 0.25, random_state = 0)\n",
    "dictionary = fit(X_train, Y_train)\n",
    "# set(Y_train)\n",
    "# dictionary.keys()\n",
    "\n",
    "Y_pred = predict(dictionary, X_test)\n"
   ]
  },
  {
   "cell_type": "code",
   "execution_count": 60,
   "metadata": {},
   "outputs": [
    {
     "name": "stdout",
     "output_type": "stream",
     "text": [
      "             precision    recall  f1-score   support\n",
      "\n",
      "          0       1.00      1.00      1.00        13\n",
      "          1       0.94      1.00      0.97        16\n",
      "          2       1.00      0.89      0.94         9\n",
      "\n",
      "avg / total       0.98      0.97      0.97        38\n",
      "\n",
      "[[13  0  0]\n",
      " [ 0 16  0]\n",
      " [ 0  1  8]]\n"
     ]
    }
   ],
   "source": [
    "from sklearn.metrics import confusion_matrix, classification_report\n",
    "print(classification_report(Y_test, Y_pred))\n",
    "print(confusion_matrix(Y_test, Y_pred))"
   ]
  }
 ],
 "metadata": {
  "kernelspec": {
   "display_name": "Python 3",
   "language": "python",
   "name": "python3"
  },
  "language_info": {
   "codemirror_mode": {
    "name": "ipython",
    "version": 3
   },
   "file_extension": ".py",
   "mimetype": "text/x-python",
   "name": "python",
   "nbconvert_exporter": "python",
   "pygments_lexer": "ipython3",
   "version": "3.7.0"
  }
 },
 "nbformat": 4,
 "nbformat_minor": 2
}
