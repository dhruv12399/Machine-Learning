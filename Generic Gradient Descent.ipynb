{
 "cells": [
  {
   "cell_type": "code",
   "execution_count": 2,
   "metadata": {},
   "outputs": [],
   "source": [
    "import numpy as np"
   ]
  },
  {
   "cell_type": "code",
   "execution_count": 3,
   "metadata": {},
   "outputs": [],
   "source": [
    "def step_gradient(data,lr,m):\n",
    "    N = len(data)\n",
    "    n = len(m)\n",
    "    m_slope = np.zeros(n)\n",
    "    m_new = np.zeros(n)\n",
    "    for i in range(N):\n",
    "        a = np.dot(m,data[i][:-1])\n",
    "        for j in range(n):\n",
    "            x = data[i,j]\n",
    "            y = data[i,n]\n",
    "            m_slope[j] += (-2/N)*(y-a)*x\n",
    "            m_new[j] = m[j]-lr*m_slope[j]\n",
    "    return m_new\n"
   ]
  },
  {
   "cell_type": "code",
   "execution_count": 4,
   "metadata": {},
   "outputs": [],
   "source": [
    "def cost(data,m):\n",
    "    total_cost = 0\n",
    "    N = len(data)\n",
    "    n = len(m)\n",
    "    for i in range(N):\n",
    "        a = np.dot(m,data[i][:-1])\n",
    "        y = data[i,n]\n",
    "        total_cost += (1/N)*((y-a)**2)\n",
    "    return total_cost"
   ]
  },
  {
   "cell_type": "code",
   "execution_count": 5,
   "metadata": {},
   "outputs": [],
   "source": [
    "def gd(data,lr,ni):\n",
    "    m=np.zeros(len(data[0][:-1]))\n",
    "    for i in range(ni):\n",
    "        m = step_gradient(data,lr,m)\n",
    "        print(\"Cost \",i, \" \", cost(data,m))\n",
    "    return m"
   ]
  },
  {
   "cell_type": "code",
   "execution_count": 6,
   "metadata": {},
   "outputs": [],
   "source": [
    "def run():\n",
    "    data = np.loadtxt(\"C:/Users/Dhruv/Desktop/Machine Learning/Datasets/data.csv\", delimiter=\",\")\n",
    "    data = np.insert(data,-1,1,axis=1)\n",
    "    lr = 0.0001\n",
    "    ni = 100\n",
    "    m = gd(data,lr,ni)\n",
    "    print(m)"
   ]
  },
  {
   "cell_type": "code",
   "execution_count": 7,
   "metadata": {},
   "outputs": [
    {
     "name": "stdout",
     "output_type": "stream",
     "text": [
      "Cost  0   1484.5865574086483\n",
      "Cost  1   457.8542575737672\n",
      "Cost  2   199.5099857255389\n",
      "Cost  3   134.50591058200533\n",
      "Cost  4   118.14969342239951\n",
      "Cost  5   114.03414906038147\n",
      "Cost  6   112.99857731713661\n",
      "Cost  7   112.73798187568467\n",
      "Cost  8   112.67238435909104\n",
      "Cost  9   112.65585181499749\n",
      "Cost  10   112.65166489759584\n",
      "Cost  11   112.65058436150112\n",
      "Cost  12   112.65028544701502\n",
      "Cost  13   112.65018320293967\n",
      "Cost  14   112.65013044507197\n",
      "Cost  15   112.65009013922885\n",
      "Cost  16   112.65005296694632\n",
      "Cost  17   112.65001658353178\n",
      "Cost  18   112.64998039901862\n",
      "Cost  19   112.64994426496071\n",
      "Cost  20   112.6499081440062\n",
      "Cost  21   112.64987202675678\n",
      "Cost  22   112.6498359108476\n",
      "Cost  23   112.64979979568365\n",
      "Cost  24   112.64976368111523\n",
      "Cost  25   112.64972756710468\n",
      "Cost  26   112.6496914536424\n",
      "Cost  27   112.64965534072608\n",
      "Cost  28   112.64961922835515\n",
      "Cost  29   112.6495831165294\n",
      "Cost  30   112.64954700524869\n",
      "Cost  31   112.64951089451318\n",
      "Cost  32   112.64947478432278\n",
      "Cost  33   112.64943867467743\n",
      "Cost  34   112.64940256557729\n",
      "Cost  35   112.64936645702217\n",
      "Cost  36   112.64933034901205\n",
      "Cost  37   112.64929424154703\n",
      "Cost  38   112.64925813462712\n",
      "Cost  39   112.64922202825217\n",
      "Cost  40   112.64918592242236\n",
      "Cost  41   112.64914981713753\n",
      "Cost  42   112.64911371239779\n",
      "Cost  43   112.64907760820296\n",
      "Cost  44   112.64904150455324\n",
      "Cost  45   112.64900540144849\n",
      "Cost  46   112.64896929888867\n",
      "Cost  47   112.64893319687388\n",
      "Cost  48   112.64889709540411\n",
      "Cost  49   112.6488609944792\n",
      "Cost  50   112.64882489409936\n",
      "Cost  51   112.64878879426433\n",
      "Cost  52   112.64875269497435\n",
      "Cost  53   112.64871659622932\n",
      "Cost  54   112.64868049802914\n",
      "Cost  55   112.64864440037398\n",
      "Cost  56   112.64860830326366\n",
      "Cost  57   112.64857220669825\n",
      "Cost  58   112.64853611067775\n",
      "Cost  59   112.64850001520212\n",
      "Cost  60   112.6484639202713\n",
      "Cost  61   112.64842782588545\n",
      "Cost  62   112.64839173204442\n",
      "Cost  63   112.6483556387483\n",
      "Cost  64   112.64831954599693\n",
      "Cost  65   112.64828345379044\n",
      "Cost  66   112.64824736212877\n",
      "Cost  67   112.64821127101193\n",
      "Cost  68   112.64817518043985\n",
      "Cost  69   112.64813909041263\n",
      "Cost  70   112.64810300093018\n",
      "Cost  71   112.64806691199259\n",
      "Cost  72   112.64803082359968\n",
      "Cost  73   112.64799473575162\n",
      "Cost  74   112.64795864844827\n",
      "Cost  75   112.64792256168967\n",
      "Cost  76   112.64788647547574\n",
      "Cost  77   112.6478503898067\n",
      "Cost  78   112.64781430468224\n",
      "Cost  79   112.64777822010265\n",
      "Cost  80   112.64774213606768\n",
      "Cost  81   112.64770605257743\n",
      "Cost  82   112.64766996963188\n",
      "Cost  83   112.64763388723105\n",
      "Cost  84   112.64759780537484\n",
      "Cost  85   112.64756172406332\n",
      "Cost  86   112.6475256432965\n",
      "Cost  87   112.64748956307432\n",
      "Cost  88   112.64745348339676\n",
      "Cost  89   112.64741740426386\n",
      "Cost  90   112.6473813256756\n",
      "Cost  91   112.64734524763196\n",
      "Cost  92   112.64730917013293\n",
      "Cost  93   112.6472730931785\n",
      "Cost  94   112.64723701676861\n",
      "Cost  95   112.64720094090339\n",
      "Cost  96   112.64716486558268\n",
      "Cost  97   112.64712879080662\n",
      "Cost  98   112.64709271657509\n",
      "Cost  99   112.64705664288806\n",
      "[1.47880272 0.03507497]\n"
     ]
    }
   ],
   "source": [
    "run()"
   ]
  }
 ],
 "metadata": {
  "kernelspec": {
   "display_name": "Python 3",
   "language": "python",
   "name": "python3"
  },
  "language_info": {
   "codemirror_mode": {
    "name": "ipython",
    "version": 3
   },
   "file_extension": ".py",
   "mimetype": "text/x-python",
   "name": "python",
   "nbconvert_exporter": "python",
   "pygments_lexer": "ipython3",
   "version": "3.7.0"
  }
 },
 "nbformat": 4,
 "nbformat_minor": 2
}
